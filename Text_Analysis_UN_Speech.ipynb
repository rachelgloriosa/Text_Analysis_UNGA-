{
  "nbformat": 4,
  "nbformat_minor": 0,
  "metadata": {
    "colab": {
      "provenance": [],
      "collapsed_sections": [
        "DazyGXgjjL2c"
      ],
      "mount_file_id": "1EiFOmbilxOk-LunTq7ILJJ1RjgOzGk_U",
      "authorship_tag": "ABX9TyMvxygPxSVvHAs24xXVSvpM",
      "include_colab_link": true
    },
    "kernelspec": {
      "name": "python3",
      "display_name": "Python 3"
    },
    "language_info": {
      "name": "python"
    }
  },
  "cells": [
    {
      "cell_type": "markdown",
      "metadata": {
        "id": "view-in-github",
        "colab_type": "text"
      },
      "source": [
        "<a href=\"https://colab.research.google.com/github/rachelgloriosa/Text_Analysis_UNGA-/blob/main/Text_Analysis_UN_Speech.ipynb\" target=\"_parent\"><img src=\"https://colab.research.google.com/assets/colab-badge.svg\" alt=\"Open In Colab\"/></a>"
      ]
    },
    {
      "cell_type": "markdown",
      "source": [
        "# ***Is Indonesia aligned with the UN Agenda? A comparative text analysis between President of Indonesia and UN Secretary General Antonio Guterres***"
      ],
      "metadata": {
        "id": "jdtaxtJ45_Ln"
      }
    },
    {
      "cell_type": "markdown",
      "source": [
        "# **Introduction**\n",
        "\n",
        "In contemporary global politics, speeches delivered at the United Nations General Assembly (UNGA) serve not only as instruments of diplomacy but also as a reflection of how states position themselves within the multilateral system. Language, as a vehicle of political intent, often reveals the degree to which national leaders align—or deliberately diverge—from the global agenda articulated by the United Nations. This study explores such alignment by analyzing and comparing the UNGA address of Indonesian President Prabowo Subianto with the speech of UN Secretary-General António Guterres. The comparison seeks to examine whether Prabowo’s rhetoric resonates with, complements, or contrasts the priorities championed by the UN, particularly regarding global cooperation, sustainable development, and peacebuilding.\n",
        "\n",
        "The analysis is motivated by the idea that political language is not merely descriptive but strategic. For new leaders like Prabowo, his first speech at the UNGA represents an important opportunity to project Indonesia’s global vision and to define his leadership style within an international forum (Cabinet Secretary of the Republic of Indonesia, 2025). His speech as the high level forum not only signifies Indonesia's diplomatic stance, but also reflect the leader's image building in international stage. Guterres, meanwhile, embodies the normative voice of multilateralism—emphasizing climate action, inequality reduction, and human solidarity. Assessing the thematic and linguistic alignment between these two speeches provides insights into how Indonesia’s foreign policy discourse situates itself in relation to the multilateral order.\n",
        "\n",
        "This paper examines the personal branding of Indonesian President Prabowo Subianto through his speech delivered at the United Nations General Assembly (UNGA). As Indonesia’s new head of state, Prabowo’s international debut marks a defining moment in how he articulates Indonesia’s stance in multilateral forums. However, it is possible that leaders' branding could differ between domestic and international stage - depending on the branding objectives of the leader itself. Image building in itself may align to the overall agendas of a multilateral forum, but leaders could also utilize high-level forum such as the UNGA to shape public opinions domestically. Hence, this analysis is aimed to analyze whether Prabowo's branding implementation at the UNGA synchronizes with Secretary General Guterres's agenda."
      ],
      "metadata": {
        "id": "dmqaRUu3v9j_"
      }
    },
    {
      "cell_type": "markdown",
      "source": [
        "# **Methodologies**\n",
        "\n",
        "To investigate the rhetorical patterns and linguistic choices that underpin Prabowo’s self-presentation as a global leader, this study applies Natural Language Toolkit (NLTK) for text analysis. NLTK enables computational exploration of language patterns by tokenizing text, identifying word frequencies, and analyzing sentiment and thematic clusters. This library is the most suitable considering that our data entry will involve, not just text, but also context - further emphasizing the need to analyze when and where certain agendas or stance are positioned in speeches or in campaign materials.\n",
        "\n",
        "The text analysis process began with setting up the necessary libraries, specifically NLTK, and downloading the speech data from GitHub. The raw text was then processed by tokenizing and normalizing the words, removing common English stopwords, and lemmatizing the remaining tokens to their base form. This cleaned text was used to generate frequency distributions of words for each speech and visualize the top terms. Finally, lexical diversity was calculated, keyword dispersion plots were generated to show term positioning, and sentiment analysis was performed using VADER to assess the overall emotional tone of each speech. These steps allowed for a comparative analysis of the two speeches based on word usage, structure, and sentiment."
      ],
      "metadata": {
        "id": "OOGOXQr4yEX_"
      }
    },
    {
      "cell_type": "markdown",
      "source": [
        "# **Results**"
      ],
      "metadata": {
        "id": "LaWV-mylyiMC"
      }
    },
    {
      "cell_type": "markdown",
      "source": [
        "##### Setting up the NLTK library and upload the data point\n",
        "\n"
      ],
      "metadata": {
        "id": "Ekp24Yn0yyta"
      }
    },
    {
      "cell_type": "code",
      "source": [
        "!pip -q install -U nltk\n",
        "\n",
        "import nltk\n",
        "import matplotlib\n",
        "%matplotlib inline\n",
        "needed = [\"punkt_tab\",\n",
        "          \"stopwords\",\n",
        "          \"wordnet\",\n",
        "          \"averaged_perceptron_tagger_eng\",\n",
        "          \"inaugural\"]\n",
        "for pkg in needed:\n",
        "    nltk.download(pkg, quiet=True)\n",
        "\n",
        "print(\"NLTK version:\", nltk.__version__)"
      ],
      "metadata": {
        "colab": {
          "base_uri": "https://localhost:8080/"
        },
        "id": "TgFKDPHBzsBZ",
        "outputId": "4aef93b7-986f-45d9-88cc-e5b14a4a6e42"
      },
      "execution_count": 52,
      "outputs": [
        {
          "output_type": "stream",
          "name": "stdout",
          "text": [
            "NLTK version: 3.9.2\n"
          ]
        }
      ]
    },
    {
      "cell_type": "code",
      "source": [
        "import os\n",
        "import requests\n",
        "\n",
        "# Define the raw URLs of the text files on GitHub\n",
        "# Make sure to use the \"Raw\" link for the file on GitHub\n",
        "github_url_prabowo = 'https://raw.githubusercontent.com/rachelgloriosa/Text_Analysis_UNGA-/main/prabowo_unga.txt'\n",
        "github_url_guterres = 'https://raw.githubusercontent.com/rachelgloriosa/Text_Analysis_UNGA-/main/guterres_unga.txt'\n",
        "\n",
        "# Define the destination directory in your Colab environment\n",
        "colab_destination_dir = '/content/my_corpus'\n",
        "\n",
        "# Create the destination directory if it doesn't exist\n",
        "if not os.path.exists(colab_destination_dir):\n",
        "    os.makedirs(colab_destination_dir)\n",
        "\n",
        "# Function to download file from URL\n",
        "def download_file(url, destination_folder):\n",
        "    local_filename = os.path.join(destination_folder, url.split('/')[-1])\n",
        "    with requests.get(url, stream=True) as r:\n",
        "        r.raise_for_status()\n",
        "        with open(local_filename, 'wb') as f:\n",
        "            for chunk in r.iter_content(chunk_size=8192):\n",
        "                f.write(chunk)\n",
        "    return local_filename\n",
        "\n",
        "# Download the files from GitHub to the Colab environment\n",
        "try:\n",
        "    prabowo_file_path = download_file(github_url_prabowo, colab_destination_dir)\n",
        "    guterres_file_path = download_file(github_url_guterres, colab_destination_dir)\n",
        "    print(f\"Files downloaded to: {colab_destination_dir}\")\n",
        "\n",
        "    from nltk.corpus import PlaintextCorpusReader\n",
        "\n",
        "    corpus_root = 'my_corpus'  # folder path\n",
        "    # Corrected regex for .txt files\n",
        "    my_corpus = PlaintextCorpusReader(corpus_root, r'.*\\.txt')\n",
        "\n",
        "    print(my_corpus.fileids())  # list of your text files\n",
        "    text_prabowo = my_corpus.raw('prabowo_unga.txt')  # read a specific file\n",
        "    print(\"\\nPreview of prabowo_unga.txt:\")\n",
        "    print(text_prabowo[:500])  # preview\n",
        "\n",
        "    text_guterres = my_corpus.raw('guterres_unga.txt') # read a specific file\n",
        "    print(\"\\nPreview of guterres_unga.txt:\")\n",
        "    print(text_guterres[:500]) # preview\n",
        "\n",
        "except requests.exceptions.RequestException as e:\n",
        "    print(f\"Error downloading files: {e}\")\n",
        "    print(\"Please ensure the GitHub URLs are correct and the files are accessible.\")"
      ],
      "metadata": {
        "colab": {
          "base_uri": "https://localhost:8080/"
        },
        "id": "BxwDl9IZ5d5O",
        "outputId": "4b7a7e19-6fb1-47d0-cc2a-a5982c9104f5"
      },
      "execution_count": 53,
      "outputs": [
        {
          "output_type": "stream",
          "name": "stdout",
          "text": [
            "Files downloaded to: /content/my_corpus\n",
            "['guterres_unga.txt', 'prabowo_unga.txt']\n",
            "\n",
            "Preview of prabowo_unga.txt:\n",
            "President Prabowo Subianto:\n",
            "Indonesia's Call for Hope\n",
            "Remarks Delivered at the United Nations General Assembly September 23 2025\n",
            "\n",
            "\n",
            "Bismillahirrahmanirrahim,\n",
            "Assalamu'alaikum warahmatullahi wabarakatuh. Shalom, Salve, Om swastiastu,\n",
            "Salam kebajikan, Rahayu, rahayu.\n",
            "\n",
            "\n",
            "Madam President, distinguished delegates, excellencies,\n",
            "\n",
            "\n",
            "It is indeed a great honor to stand in this august General Assembly Hall, among leaders who represent almost all of humanity.\n",
            "\n",
            "\n",
            "We differ in race, religion, and nationality, y\n",
            "\n",
            "Preview of guterres_unga.txt:\n",
            "Let me begin with two words we have not been able to say often enough in this Hall:\n",
            "\n",
            "Madame President, Excellencies,\n",
            "Ladies and gentlemen,\n",
            "\n",
            "Eighty years ago, in a world scorched by war, leaders made a choice. Cooperation over chaos.\n",
            "Law over lawlessness. Peace over conflict.\n",
            "That choice gave birth to the United Nations – not as a dream for perfection, but as a practical strategy for the survival of humanity.\n",
            "Many of our founders had seen first-hand the hell of the death camps and the terror of w\n"
          ]
        }
      ]
    },
    {
      "cell_type": "markdown",
      "source": [
        "#### Lowercase and keep only alphabetic tokens (drop punctuation/numbers) for a quick clean view."
      ],
      "metadata": {
        "id": "DazyGXgjjL2c"
      }
    },
    {
      "cell_type": "code",
      "source": [
        "import re\n",
        "import nltk\n",
        "from nltk.corpus import stopwords, wordnet\n",
        "from nltk.stem import WordNetLemmatizer\n",
        "from nltk import pos_tag, FreqDist\n",
        "from nltk.tokenize import RegexpTokenizer\n",
        "\n",
        "def wordnet_pos(tag):\n",
        "    return {\"J\": wordnet.ADJ, \"N\": wordnet.NOUN, \"V\": wordnet.VERB, \"R\": wordnet.ADV}.get(tag[0], wordnet.NOUN)\n",
        "\n",
        "# 1) Tokenize & normalize (safer)\n",
        "def tokenize_norm(text):\n",
        "    tok = RegexpTokenizer(r\"[A-Za-z0-9]+\")  # keeps alphanumeric runs, drops punctuation\n",
        "    return [t.lower() for t in tok.tokenize(text)]\n",
        "\n",
        "# 2) Remove stopwords\n",
        "def remove_stopwords(toks):\n",
        "    stops = set(stopwords.words(\"english\"))\n",
        "    return [t for t in toks if t not in stops]\n",
        "\n",
        "# 3–4) POS-tag once, then lemmatize\n",
        "def pos_lemmatize(toks):\n",
        "    tags = pos_tag(toks)\n",
        "    lem = WordNetLemmatizer()\n",
        "    return [lem.lemmatize(t, wordnet_pos(tag)) for t, tag in tags]\n",
        "\n",
        "def run_pipeline(text):\n",
        "    toks = tokenize_norm(text)\n",
        "    toks_nostop = remove_stopwords(toks)\n",
        "    clean = pos_lemmatize(toks_nostop)\n",
        "    return toks, toks_nostop, clean\n",
        "\n",
        "# --- Sanity test on Prabowo's speech ---\n",
        "from nltk.corpus import PlaintextCorpusReader\n",
        "s1 = 'prabowo_unga.txt'\n",
        "raw = my_corpus.raw(s1)\n",
        "\n",
        "toks, toks_nostop, clean = run_pipeline(raw)\n",
        "print(\"Prabowo's Speech:\", s1)\n",
        "print(\"Counts -> toks:\", len(toks), \"| no-stop:\", len(toks_nostop), \"| clean:\", len(clean))\n",
        "print(\"Top 10 (clean):\", FreqDist(clean).most_common(10))\n"
      ],
      "metadata": {
        "colab": {
          "base_uri": "https://localhost:8080/"
        },
        "id": "wICpYzKfKf3Y",
        "outputId": "29bfdbef-155a-45fd-dab0-947b9787322f"
      },
      "execution_count": 54,
      "outputs": [
        {
          "output_type": "stream",
          "name": "stdout",
          "text": [
            "Prabowo's Speech: prabowo_unga.txt\n",
            "Counts -> toks: 1411 | no-stop: 812 | clean: 812\n",
            "Top 10 (clean): [('world', 12), ('indonesia', 11), ('must', 11), ('un', 10), ('u', 9), ('civilisation', 9), ('great', 7), ('live', 7), ('peace', 7), ('violence', 7)]\n"
          ]
        }
      ]
    },
    {
      "cell_type": "code",
      "source": [
        "import re\n",
        "import nltk\n",
        "from nltk.corpus import stopwords, wordnet\n",
        "from nltk.stem import WordNetLemmatizer\n",
        "from nltk import pos_tag, FreqDist\n",
        "from nltk.tokenize import RegexpTokenizer\n",
        "\n",
        "def wordnet_pos(tag):\n",
        "    return {\"J\": wordnet.ADJ, \"N\": wordnet.NOUN, \"V\": wordnet.VERB, \"R\": wordnet.ADV}.get(tag[0], wordnet.NOUN)\n",
        "\n",
        "# 1) Tokenize & normalize (safer)\n",
        "def tokenize_norm(text):\n",
        "    tok = RegexpTokenizer(r\"[A-Za-z0-9]+\")  # keeps alphanumeric runs, drops punctuation\n",
        "    return [t.lower() for t in tok.tokenize(text)]\n",
        "\n",
        "# 2) Remove stopwords\n",
        "def remove_stopwords(toks):\n",
        "    stops = set(stopwords.words(\"english\"))\n",
        "    return [t for t in toks if t not in stops]\n",
        "\n",
        "# 3–4) POS-tag once, then lemmatize\n",
        "def pos_lemmatize(toks):\n",
        "    tags = pos_tag(toks)\n",
        "    lem = WordNetLemmatizer()\n",
        "    return [lem.lemmatize(t, wordnet_pos(tag)) for t, tag in tags]\n",
        "\n",
        "def run_pipeline(text):\n",
        "    toks = tokenize_norm(text)\n",
        "    toks_nostop = remove_stopwords(toks)\n",
        "    clean = pos_lemmatize(toks_nostop)\n",
        "    return toks, toks_nostop, clean\n",
        "\n",
        "# --- Sanity test on Guterres's speech ---\n",
        "s2 = 'guterres_unga.txt'\n",
        "raw2 = my_corpus.raw(s2)\n",
        "\n",
        "toks2, toks_nostop2, clean2 = run_pipeline(raw2)\n",
        "print(\"\\nGuterres's Speech:\", s2)\n",
        "print(\"Counts -> toks:\", len(toks2), \"| no-stop:\", len(toks_nostop2), \"| clean:\", len(clean2))\n",
        "# Corrected to show top 10 for Guterres's speech (clean2)\n",
        "print(\"Top 10 (clean):\", FreqDist(clean2).most_common(10))"
      ],
      "metadata": {
        "colab": {
          "base_uri": "https://localhost:8080/"
        },
        "id": "EbzOMd7bnEyl",
        "outputId": "d59016e4-6ae9-4075-e133-8f7baa9299f8"
      },
      "execution_count": 55,
      "outputs": [
        {
          "output_type": "stream",
          "name": "stdout",
          "text": [
            "\n",
            "Guterres's Speech: guterres_unga.txt\n",
            "Counts -> toks: 2757 | no-stop: 1558 | clean: 1558\n",
            "Top 10 (clean): [('must', 34), ('world', 22), ('right', 21), ('choose', 19), ('human', 18), ('u', 14), ('peace', 13), ('nation', 13), ('international', 13), ('choice', 12)]\n"
          ]
        }
      ]
    },
    {
      "cell_type": "markdown",
      "source": [
        "# Comparing the Two Speeches: Top terms and lexical diversity\n",
        "\n",
        "This section aims to compare the two speeches and analyze top terms and keyword dispersions implemented by the two leaders. The aim is to observe how the leaders emphasize several agendas and analyze the prioritization mechanism of these agendas. Furthermore, this section also scrutinize on the lexical diversity of each corresponding leader."
      ],
      "metadata": {
        "id": "rIOe54ZMIsO8"
      }
    },
    {
      "cell_type": "markdown",
      "source": [
        "#### Top Terms Analysis and Lexical Diversity"
      ],
      "metadata": {
        "id": "qUL8Ddeo_aQD"
      }
    },
    {
      "cell_type": "code",
      "source": [
        "# You can change these IDs. Use 'fileids' printed earlier to choose.\n",
        "s1, s2 = 'prabowo_unga.txt', 'guterres_unga.txt'\n",
        "raw1, raw2 =  my_corpus.raw(s1), my_corpus.raw(s2)\n",
        "\n",
        "# Clean tokens for both speeches using the defined run_pipeline function.\n",
        "# Assuming run_pipeline is defined in a previous cell that has been executed.\n",
        "toks1, toks_nostop1, c1 = run_pipeline(raw1)\n",
        "toks2, toks_nostop2, c2 = run_pipeline(raw2)\n",
        "\n",
        "\n",
        "# Frequency distributions (counts of words)\n",
        "fd1, fd2 = FreqDist(c1), FreqDist(c2)\n",
        "top1 = fd1.most_common(25)\n",
        "top2 = fd2.most_common(25)\n",
        "\n",
        "print(f\"\\nTop terms — {s1}\")\n",
        "for word, count in top1[:10]:\n",
        "    print(f\"{word:>10}   {count}\")\n",
        "\n",
        "print(f\"\\nTop terms — {s2}\")\n",
        "for word, count in top2[:10]:\n",
        "    print(f\"{word:>10}   {count}\")\n",
        "\n",
        "# Define lexical_diversity function\n",
        "def lexical_diversity(text, sample_size):\n",
        "    \"\"\"\n",
        "    Calculate lexical diversity (type-token ratio) for a sample of text.\n",
        "    \"\"\"\n",
        "    if len(text) < sample_size:\n",
        "        sample_size = len(text)\n",
        "    if sample_size == 0:\n",
        "        return 0\n",
        "    sample = text[:sample_size]\n",
        "    return len(set(sample)) / sample_size\n",
        "\n",
        "print(\"\\nLexical diversity (slice 2000):\")\n",
        "print(f\"{s1:>15}   {lexical_diversity(c1, 10000):.4f}\")\n",
        "print(f\"{s2:>15}   {lexical_diversity(c2, 10000):.4f}\")"
      ],
      "metadata": {
        "colab": {
          "base_uri": "https://localhost:8080/"
        },
        "id": "On3xwoNtJV3y",
        "outputId": "e159700c-4631-4b73-fa7e-f3d7bc3066fd"
      },
      "execution_count": 56,
      "outputs": [
        {
          "output_type": "stream",
          "name": "stdout",
          "text": [
            "\n",
            "Top terms — prabowo_unga.txt\n",
            "     world   12\n",
            " indonesia   11\n",
            "      must   11\n",
            "        un   10\n",
            "         u   9\n",
            "civilisation   9\n",
            "     great   7\n",
            "      live   7\n",
            "     peace   7\n",
            "  violence   7\n",
            "\n",
            "Top terms — guterres_unga.txt\n",
            "      must   34\n",
            "     world   22\n",
            "     right   21\n",
            "    choose   19\n",
            "     human   18\n",
            "         u   14\n",
            "     peace   13\n",
            "    nation   13\n",
            "international   13\n",
            "    choice   12\n",
            "\n",
            "Lexical diversity (slice 2000):\n",
            "prabowo_unga.txt   0.6071\n",
            "guterres_unga.txt   0.5276\n"
          ]
        }
      ]
    },
    {
      "cell_type": "markdown",
      "source": [
        "#### Top Terms Visualization"
      ],
      "metadata": {
        "id": "PKXZNwYPo0YO"
      }
    },
    {
      "cell_type": "code",
      "source": [
        "import plotly.express as px\n",
        "import pandas as pd\n",
        "\n",
        "def plot_top_plotly(fd, title, k=15):\n",
        "    # Get top-k words and counts\n",
        "    data = fd.most_common(k)\n",
        "    df = pd.DataFrame(data, columns=[\"word\", \"count\"])\n",
        "\n",
        "    # Interactive bar chart\n",
        "    fig = px.bar(\n",
        "        df,\n",
        "        x=\"word\",\n",
        "        y=\"count\",\n",
        "        title=title,\n",
        "        labels={\"word\": \"Word\", \"count\": \"Frequency\"},\n",
        "    )\n",
        "\n",
        "    # Rotate x labels for readability\n",
        "    fig.update_layout(xaxis_tickangle=-45)\n",
        "    fig.show()\n",
        "\n",
        "# Use for both speeches\n",
        "plot_top_plotly(fd1, f\"Top terms — {s1}\")\n",
        "plot_top_plotly(fd2, f\"Top terms — {s2}\")"
      ],
      "metadata": {
        "colab": {
          "base_uri": "https://localhost:8080/",
          "height": 1000
        },
        "id": "cpQ1VvEbo-yE",
        "outputId": "89e86bb4-f3bf-4851-99ac-8b5a087e1315"
      },
      "execution_count": 57,
      "outputs": [
        {
          "output_type": "display_data",
          "data": {
            "text/html": [
              "<html>\n",
              "<head><meta charset=\"utf-8\" /></head>\n",
              "<body>\n",
              "    <div>            <script src=\"https://cdnjs.cloudflare.com/ajax/libs/mathjax/2.7.5/MathJax.js?config=TeX-AMS-MML_SVG\"></script><script type=\"text/javascript\">if (window.MathJax && window.MathJax.Hub && window.MathJax.Hub.Config) {window.MathJax.Hub.Config({SVG: {font: \"STIX-Web\"}});}</script>                <script type=\"text/javascript\">window.PlotlyConfig = {MathJaxConfig: 'local'};</script>\n",
              "        <script charset=\"utf-8\" src=\"https://cdn.plot.ly/plotly-2.35.2.min.js\"></script>                <div id=\"f5b4637c-21fa-4633-b58e-9a76c8592a2a\" class=\"plotly-graph-div\" style=\"height:525px; width:100%;\"></div>            <script type=\"text/javascript\">                                    window.PLOTLYENV=window.PLOTLYENV || {};                                    if (document.getElementById(\"f5b4637c-21fa-4633-b58e-9a76c8592a2a\")) {                    Plotly.newPlot(                        \"f5b4637c-21fa-4633-b58e-9a76c8592a2a\",                        [{\"alignmentgroup\":\"True\",\"hovertemplate\":\"Word=%{x}\\u003cbr\\u003eFrequency=%{y}\\u003cextra\\u003e\\u003c\\u002fextra\\u003e\",\"legendgroup\":\"\",\"marker\":{\"color\":\"#636efa\",\"pattern\":{\"shape\":\"\"}},\"name\":\"\",\"offsetgroup\":\"\",\"orientation\":\"v\",\"showlegend\":false,\"textposition\":\"auto\",\"x\":[\"world\",\"indonesia\",\"must\",\"un\",\"u\",\"civilisation\",\"great\",\"live\",\"peace\",\"violence\",\"president\",\"nation\",\"human\",\"justice\",\"assembly\"],\"xaxis\":\"x\",\"y\":[12,11,11,10,9,9,7,7,7,7,6,6,6,6,5],\"yaxis\":\"y\",\"type\":\"bar\"}],                        {\"template\":{\"data\":{\"histogram2dcontour\":[{\"type\":\"histogram2dcontour\",\"colorbar\":{\"outlinewidth\":0,\"ticks\":\"\"},\"colorscale\":[[0.0,\"#0d0887\"],[0.1111111111111111,\"#46039f\"],[0.2222222222222222,\"#7201a8\"],[0.3333333333333333,\"#9c179e\"],[0.4444444444444444,\"#bd3786\"],[0.5555555555555556,\"#d8576b\"],[0.6666666666666666,\"#ed7953\"],[0.7777777777777778,\"#fb9f3a\"],[0.8888888888888888,\"#fdca26\"],[1.0,\"#f0f921\"]]}],\"choropleth\":[{\"type\":\"choropleth\",\"colorbar\":{\"outlinewidth\":0,\"ticks\":\"\"}}],\"histogram2d\":[{\"type\":\"histogram2d\",\"colorbar\":{\"outlinewidth\":0,\"ticks\":\"\"},\"colorscale\":[[0.0,\"#0d0887\"],[0.1111111111111111,\"#46039f\"],[0.2222222222222222,\"#7201a8\"],[0.3333333333333333,\"#9c179e\"],[0.4444444444444444,\"#bd3786\"],[0.5555555555555556,\"#d8576b\"],[0.6666666666666666,\"#ed7953\"],[0.7777777777777778,\"#fb9f3a\"],[0.8888888888888888,\"#fdca26\"],[1.0,\"#f0f921\"]]}],\"heatmap\":[{\"type\":\"heatmap\",\"colorbar\":{\"outlinewidth\":0,\"ticks\":\"\"},\"colorscale\":[[0.0,\"#0d0887\"],[0.1111111111111111,\"#46039f\"],[0.2222222222222222,\"#7201a8\"],[0.3333333333333333,\"#9c179e\"],[0.4444444444444444,\"#bd3786\"],[0.5555555555555556,\"#d8576b\"],[0.6666666666666666,\"#ed7953\"],[0.7777777777777778,\"#fb9f3a\"],[0.8888888888888888,\"#fdca26\"],[1.0,\"#f0f921\"]]}],\"heatmapgl\":[{\"type\":\"heatmapgl\",\"colorbar\":{\"outlinewidth\":0,\"ticks\":\"\"},\"colorscale\":[[0.0,\"#0d0887\"],[0.1111111111111111,\"#46039f\"],[0.2222222222222222,\"#7201a8\"],[0.3333333333333333,\"#9c179e\"],[0.4444444444444444,\"#bd3786\"],[0.5555555555555556,\"#d8576b\"],[0.6666666666666666,\"#ed7953\"],[0.7777777777777778,\"#fb9f3a\"],[0.8888888888888888,\"#fdca26\"],[1.0,\"#f0f921\"]]}],\"contourcarpet\":[{\"type\":\"contourcarpet\",\"colorbar\":{\"outlinewidth\":0,\"ticks\":\"\"}}],\"contour\":[{\"type\":\"contour\",\"colorbar\":{\"outlinewidth\":0,\"ticks\":\"\"},\"colorscale\":[[0.0,\"#0d0887\"],[0.1111111111111111,\"#46039f\"],[0.2222222222222222,\"#7201a8\"],[0.3333333333333333,\"#9c179e\"],[0.4444444444444444,\"#bd3786\"],[0.5555555555555556,\"#d8576b\"],[0.6666666666666666,\"#ed7953\"],[0.7777777777777778,\"#fb9f3a\"],[0.8888888888888888,\"#fdca26\"],[1.0,\"#f0f921\"]]}],\"surface\":[{\"type\":\"surface\",\"colorbar\":{\"outlinewidth\":0,\"ticks\":\"\"},\"colorscale\":[[0.0,\"#0d0887\"],[0.1111111111111111,\"#46039f\"],[0.2222222222222222,\"#7201a8\"],[0.3333333333333333,\"#9c179e\"],[0.4444444444444444,\"#bd3786\"],[0.5555555555555556,\"#d8576b\"],[0.6666666666666666,\"#ed7953\"],[0.7777777777777778,\"#fb9f3a\"],[0.8888888888888888,\"#fdca26\"],[1.0,\"#f0f921\"]]}],\"mesh3d\":[{\"type\":\"mesh3d\",\"colorbar\":{\"outlinewidth\":0,\"ticks\":\"\"}}],\"scatter\":[{\"fillpattern\":{\"fillmode\":\"overlay\",\"size\":10,\"solidity\":0.2},\"type\":\"scatter\"}],\"parcoords\":[{\"type\":\"parcoords\",\"line\":{\"colorbar\":{\"outlinewidth\":0,\"ticks\":\"\"}}}],\"scatterpolargl\":[{\"type\":\"scatterpolargl\",\"marker\":{\"colorbar\":{\"outlinewidth\":0,\"ticks\":\"\"}}}],\"bar\":[{\"error_x\":{\"color\":\"#2a3f5f\"},\"error_y\":{\"color\":\"#2a3f5f\"},\"marker\":{\"line\":{\"color\":\"#E5ECF6\",\"width\":0.5},\"pattern\":{\"fillmode\":\"overlay\",\"size\":10,\"solidity\":0.2}},\"type\":\"bar\"}],\"scattergeo\":[{\"type\":\"scattergeo\",\"marker\":{\"colorbar\":{\"outlinewidth\":0,\"ticks\":\"\"}}}],\"scatterpolar\":[{\"type\":\"scatterpolar\",\"marker\":{\"colorbar\":{\"outlinewidth\":0,\"ticks\":\"\"}}}],\"histogram\":[{\"marker\":{\"pattern\":{\"fillmode\":\"overlay\",\"size\":10,\"solidity\":0.2}},\"type\":\"histogram\"}],\"scattergl\":[{\"type\":\"scattergl\",\"marker\":{\"colorbar\":{\"outlinewidth\":0,\"ticks\":\"\"}}}],\"scatter3d\":[{\"type\":\"scatter3d\",\"line\":{\"colorbar\":{\"outlinewidth\":0,\"ticks\":\"\"}},\"marker\":{\"colorbar\":{\"outlinewidth\":0,\"ticks\":\"\"}}}],\"scattermapbox\":[{\"type\":\"scattermapbox\",\"marker\":{\"colorbar\":{\"outlinewidth\":0,\"ticks\":\"\"}}}],\"scatterternary\":[{\"type\":\"scatterternary\",\"marker\":{\"colorbar\":{\"outlinewidth\":0,\"ticks\":\"\"}}}],\"scattercarpet\":[{\"type\":\"scattercarpet\",\"marker\":{\"colorbar\":{\"outlinewidth\":0,\"ticks\":\"\"}}}],\"carpet\":[{\"aaxis\":{\"endlinecolor\":\"#2a3f5f\",\"gridcolor\":\"white\",\"linecolor\":\"white\",\"minorgridcolor\":\"white\",\"startlinecolor\":\"#2a3f5f\"},\"baxis\":{\"endlinecolor\":\"#2a3f5f\",\"gridcolor\":\"white\",\"linecolor\":\"white\",\"minorgridcolor\":\"white\",\"startlinecolor\":\"#2a3f5f\"},\"type\":\"carpet\"}],\"table\":[{\"cells\":{\"fill\":{\"color\":\"#EBF0F8\"},\"line\":{\"color\":\"white\"}},\"header\":{\"fill\":{\"color\":\"#C8D4E3\"},\"line\":{\"color\":\"white\"}},\"type\":\"table\"}],\"barpolar\":[{\"marker\":{\"line\":{\"color\":\"#E5ECF6\",\"width\":0.5},\"pattern\":{\"fillmode\":\"overlay\",\"size\":10,\"solidity\":0.2}},\"type\":\"barpolar\"}],\"pie\":[{\"automargin\":true,\"type\":\"pie\"}]},\"layout\":{\"autotypenumbers\":\"strict\",\"colorway\":[\"#636efa\",\"#EF553B\",\"#00cc96\",\"#ab63fa\",\"#FFA15A\",\"#19d3f3\",\"#FF6692\",\"#B6E880\",\"#FF97FF\",\"#FECB52\"],\"font\":{\"color\":\"#2a3f5f\"},\"hovermode\":\"closest\",\"hoverlabel\":{\"align\":\"left\"},\"paper_bgcolor\":\"white\",\"plot_bgcolor\":\"#E5ECF6\",\"polar\":{\"bgcolor\":\"#E5ECF6\",\"angularaxis\":{\"gridcolor\":\"white\",\"linecolor\":\"white\",\"ticks\":\"\"},\"radialaxis\":{\"gridcolor\":\"white\",\"linecolor\":\"white\",\"ticks\":\"\"}},\"ternary\":{\"bgcolor\":\"#E5ECF6\",\"aaxis\":{\"gridcolor\":\"white\",\"linecolor\":\"white\",\"ticks\":\"\"},\"baxis\":{\"gridcolor\":\"white\",\"linecolor\":\"white\",\"ticks\":\"\"},\"caxis\":{\"gridcolor\":\"white\",\"linecolor\":\"white\",\"ticks\":\"\"}},\"coloraxis\":{\"colorbar\":{\"outlinewidth\":0,\"ticks\":\"\"}},\"colorscale\":{\"sequential\":[[0.0,\"#0d0887\"],[0.1111111111111111,\"#46039f\"],[0.2222222222222222,\"#7201a8\"],[0.3333333333333333,\"#9c179e\"],[0.4444444444444444,\"#bd3786\"],[0.5555555555555556,\"#d8576b\"],[0.6666666666666666,\"#ed7953\"],[0.7777777777777778,\"#fb9f3a\"],[0.8888888888888888,\"#fdca26\"],[1.0,\"#f0f921\"]],\"sequentialminus\":[[0.0,\"#0d0887\"],[0.1111111111111111,\"#46039f\"],[0.2222222222222222,\"#7201a8\"],[0.3333333333333333,\"#9c179e\"],[0.4444444444444444,\"#bd3786\"],[0.5555555555555556,\"#d8576b\"],[0.6666666666666666,\"#ed7953\"],[0.7777777777777778,\"#fb9f3a\"],[0.8888888888888888,\"#fdca26\"],[1.0,\"#f0f921\"]],\"diverging\":[[0,\"#8e0152\"],[0.1,\"#c51b7d\"],[0.2,\"#de77ae\"],[0.3,\"#f1b6da\"],[0.4,\"#fde0ef\"],[0.5,\"#f7f7f7\"],[0.6,\"#e6f5d0\"],[0.7,\"#b8e186\"],[0.8,\"#7fbc41\"],[0.9,\"#4d9221\"],[1,\"#276419\"]]},\"xaxis\":{\"gridcolor\":\"white\",\"linecolor\":\"white\",\"ticks\":\"\",\"title\":{\"standoff\":15},\"zerolinecolor\":\"white\",\"automargin\":true,\"zerolinewidth\":2},\"yaxis\":{\"gridcolor\":\"white\",\"linecolor\":\"white\",\"ticks\":\"\",\"title\":{\"standoff\":15},\"zerolinecolor\":\"white\",\"automargin\":true,\"zerolinewidth\":2},\"scene\":{\"xaxis\":{\"backgroundcolor\":\"#E5ECF6\",\"gridcolor\":\"white\",\"linecolor\":\"white\",\"showbackground\":true,\"ticks\":\"\",\"zerolinecolor\":\"white\",\"gridwidth\":2},\"yaxis\":{\"backgroundcolor\":\"#E5ECF6\",\"gridcolor\":\"white\",\"linecolor\":\"white\",\"showbackground\":true,\"ticks\":\"\",\"zerolinecolor\":\"white\",\"gridwidth\":2},\"zaxis\":{\"backgroundcolor\":\"#E5ECF6\",\"gridcolor\":\"white\",\"linecolor\":\"white\",\"showbackground\":true,\"ticks\":\"\",\"zerolinecolor\":\"white\",\"gridwidth\":2}},\"shapedefaults\":{\"line\":{\"color\":\"#2a3f5f\"}},\"annotationdefaults\":{\"arrowcolor\":\"#2a3f5f\",\"arrowhead\":0,\"arrowwidth\":1},\"geo\":{\"bgcolor\":\"white\",\"landcolor\":\"#E5ECF6\",\"subunitcolor\":\"white\",\"showland\":true,\"showlakes\":true,\"lakecolor\":\"white\"},\"title\":{\"x\":0.05},\"mapbox\":{\"style\":\"light\"}}},\"xaxis\":{\"anchor\":\"y\",\"domain\":[0.0,1.0],\"title\":{\"text\":\"Word\"},\"tickangle\":-45},\"yaxis\":{\"anchor\":\"x\",\"domain\":[0.0,1.0],\"title\":{\"text\":\"Frequency\"}},\"legend\":{\"tracegroupgap\":0},\"title\":{\"text\":\"Top terms — prabowo_unga.txt\"},\"barmode\":\"relative\"},                        {\"responsive\": true}                    ).then(function(){\n",
              "                            \n",
              "var gd = document.getElementById('f5b4637c-21fa-4633-b58e-9a76c8592a2a');\n",
              "var x = new MutationObserver(function (mutations, observer) {{\n",
              "        var display = window.getComputedStyle(gd).display;\n",
              "        if (!display || display === 'none') {{\n",
              "            console.log([gd, 'removed!']);\n",
              "            Plotly.purge(gd);\n",
              "            observer.disconnect();\n",
              "        }}\n",
              "}});\n",
              "\n",
              "// Listen for the removal of the full notebook cells\n",
              "var notebookContainer = gd.closest('#notebook-container');\n",
              "if (notebookContainer) {{\n",
              "    x.observe(notebookContainer, {childList: true});\n",
              "}}\n",
              "\n",
              "// Listen for the clearing of the current output cell\n",
              "var outputEl = gd.closest('.output');\n",
              "if (outputEl) {{\n",
              "    x.observe(outputEl, {childList: true});\n",
              "}}\n",
              "\n",
              "                        })                };                            </script>        </div>\n",
              "</body>\n",
              "</html>"
            ]
          },
          "metadata": {}
        },
        {
          "output_type": "display_data",
          "data": {
            "text/html": [
              "<html>\n",
              "<head><meta charset=\"utf-8\" /></head>\n",
              "<body>\n",
              "    <div>            <script src=\"https://cdnjs.cloudflare.com/ajax/libs/mathjax/2.7.5/MathJax.js?config=TeX-AMS-MML_SVG\"></script><script type=\"text/javascript\">if (window.MathJax && window.MathJax.Hub && window.MathJax.Hub.Config) {window.MathJax.Hub.Config({SVG: {font: \"STIX-Web\"}});}</script>                <script type=\"text/javascript\">window.PlotlyConfig = {MathJaxConfig: 'local'};</script>\n",
              "        <script charset=\"utf-8\" src=\"https://cdn.plot.ly/plotly-2.35.2.min.js\"></script>                <div id=\"f9cc7eeb-45e5-444a-b3a2-51c31655ffaf\" class=\"plotly-graph-div\" style=\"height:525px; width:100%;\"></div>            <script type=\"text/javascript\">                                    window.PLOTLYENV=window.PLOTLYENV || {};                                    if (document.getElementById(\"f9cc7eeb-45e5-444a-b3a2-51c31655ffaf\")) {                    Plotly.newPlot(                        \"f9cc7eeb-45e5-444a-b3a2-51c31655ffaf\",                        [{\"alignmentgroup\":\"True\",\"hovertemplate\":\"Word=%{x}\\u003cbr\\u003eFrequency=%{y}\\u003cextra\\u003e\\u003c\\u002fextra\\u003e\",\"legendgroup\":\"\",\"marker\":{\"color\":\"#636efa\",\"pattern\":{\"shape\":\"\"}},\"name\":\"\",\"offsetgroup\":\"\",\"orientation\":\"v\",\"showlegend\":false,\"textposition\":\"auto\",\"x\":[\"must\",\"world\",\"right\",\"choose\",\"human\",\"u\",\"peace\",\"nation\",\"international\",\"choice\",\"rise\",\"law\",\"united\",\"work\",\"country\"],\"xaxis\":\"x\",\"y\":[34,22,21,19,18,14,13,13,13,12,10,9,9,9,9],\"yaxis\":\"y\",\"type\":\"bar\"}],                        {\"template\":{\"data\":{\"histogram2dcontour\":[{\"type\":\"histogram2dcontour\",\"colorbar\":{\"outlinewidth\":0,\"ticks\":\"\"},\"colorscale\":[[0.0,\"#0d0887\"],[0.1111111111111111,\"#46039f\"],[0.2222222222222222,\"#7201a8\"],[0.3333333333333333,\"#9c179e\"],[0.4444444444444444,\"#bd3786\"],[0.5555555555555556,\"#d8576b\"],[0.6666666666666666,\"#ed7953\"],[0.7777777777777778,\"#fb9f3a\"],[0.8888888888888888,\"#fdca26\"],[1.0,\"#f0f921\"]]}],\"choropleth\":[{\"type\":\"choropleth\",\"colorbar\":{\"outlinewidth\":0,\"ticks\":\"\"}}],\"histogram2d\":[{\"type\":\"histogram2d\",\"colorbar\":{\"outlinewidth\":0,\"ticks\":\"\"},\"colorscale\":[[0.0,\"#0d0887\"],[0.1111111111111111,\"#46039f\"],[0.2222222222222222,\"#7201a8\"],[0.3333333333333333,\"#9c179e\"],[0.4444444444444444,\"#bd3786\"],[0.5555555555555556,\"#d8576b\"],[0.6666666666666666,\"#ed7953\"],[0.7777777777777778,\"#fb9f3a\"],[0.8888888888888888,\"#fdca26\"],[1.0,\"#f0f921\"]]}],\"heatmap\":[{\"type\":\"heatmap\",\"colorbar\":{\"outlinewidth\":0,\"ticks\":\"\"},\"colorscale\":[[0.0,\"#0d0887\"],[0.1111111111111111,\"#46039f\"],[0.2222222222222222,\"#7201a8\"],[0.3333333333333333,\"#9c179e\"],[0.4444444444444444,\"#bd3786\"],[0.5555555555555556,\"#d8576b\"],[0.6666666666666666,\"#ed7953\"],[0.7777777777777778,\"#fb9f3a\"],[0.8888888888888888,\"#fdca26\"],[1.0,\"#f0f921\"]]}],\"heatmapgl\":[{\"type\":\"heatmapgl\",\"colorbar\":{\"outlinewidth\":0,\"ticks\":\"\"},\"colorscale\":[[0.0,\"#0d0887\"],[0.1111111111111111,\"#46039f\"],[0.2222222222222222,\"#7201a8\"],[0.3333333333333333,\"#9c179e\"],[0.4444444444444444,\"#bd3786\"],[0.5555555555555556,\"#d8576b\"],[0.6666666666666666,\"#ed7953\"],[0.7777777777777778,\"#fb9f3a\"],[0.8888888888888888,\"#fdca26\"],[1.0,\"#f0f921\"]]}],\"contourcarpet\":[{\"type\":\"contourcarpet\",\"colorbar\":{\"outlinewidth\":0,\"ticks\":\"\"}}],\"contour\":[{\"type\":\"contour\",\"colorbar\":{\"outlinewidth\":0,\"ticks\":\"\"},\"colorscale\":[[0.0,\"#0d0887\"],[0.1111111111111111,\"#46039f\"],[0.2222222222222222,\"#7201a8\"],[0.3333333333333333,\"#9c179e\"],[0.4444444444444444,\"#bd3786\"],[0.5555555555555556,\"#d8576b\"],[0.6666666666666666,\"#ed7953\"],[0.7777777777777778,\"#fb9f3a\"],[0.8888888888888888,\"#fdca26\"],[1.0,\"#f0f921\"]]}],\"surface\":[{\"type\":\"surface\",\"colorbar\":{\"outlinewidth\":0,\"ticks\":\"\"},\"colorscale\":[[0.0,\"#0d0887\"],[0.1111111111111111,\"#46039f\"],[0.2222222222222222,\"#7201a8\"],[0.3333333333333333,\"#9c179e\"],[0.4444444444444444,\"#bd3786\"],[0.5555555555555556,\"#d8576b\"],[0.6666666666666666,\"#ed7953\"],[0.7777777777777778,\"#fb9f3a\"],[0.8888888888888888,\"#fdca26\"],[1.0,\"#f0f921\"]]}],\"mesh3d\":[{\"type\":\"mesh3d\",\"colorbar\":{\"outlinewidth\":0,\"ticks\":\"\"}}],\"scatter\":[{\"fillpattern\":{\"fillmode\":\"overlay\",\"size\":10,\"solidity\":0.2},\"type\":\"scatter\"}],\"parcoords\":[{\"type\":\"parcoords\",\"line\":{\"colorbar\":{\"outlinewidth\":0,\"ticks\":\"\"}}}],\"scatterpolargl\":[{\"type\":\"scatterpolargl\",\"marker\":{\"colorbar\":{\"outlinewidth\":0,\"ticks\":\"\"}}}],\"bar\":[{\"error_x\":{\"color\":\"#2a3f5f\"},\"error_y\":{\"color\":\"#2a3f5f\"},\"marker\":{\"line\":{\"color\":\"#E5ECF6\",\"width\":0.5},\"pattern\":{\"fillmode\":\"overlay\",\"size\":10,\"solidity\":0.2}},\"type\":\"bar\"}],\"scattergeo\":[{\"type\":\"scattergeo\",\"marker\":{\"colorbar\":{\"outlinewidth\":0,\"ticks\":\"\"}}}],\"scatterpolar\":[{\"type\":\"scatterpolar\",\"marker\":{\"colorbar\":{\"outlinewidth\":0,\"ticks\":\"\"}}}],\"histogram\":[{\"marker\":{\"pattern\":{\"fillmode\":\"overlay\",\"size\":10,\"solidity\":0.2}},\"type\":\"histogram\"}],\"scattergl\":[{\"type\":\"scattergl\",\"marker\":{\"colorbar\":{\"outlinewidth\":0,\"ticks\":\"\"}}}],\"scatter3d\":[{\"type\":\"scatter3d\",\"line\":{\"colorbar\":{\"outlinewidth\":0,\"ticks\":\"\"}},\"marker\":{\"colorbar\":{\"outlinewidth\":0,\"ticks\":\"\"}}}],\"scattermapbox\":[{\"type\":\"scattermapbox\",\"marker\":{\"colorbar\":{\"outlinewidth\":0,\"ticks\":\"\"}}}],\"scatterternary\":[{\"type\":\"scatterternary\",\"marker\":{\"colorbar\":{\"outlinewidth\":0,\"ticks\":\"\"}}}],\"scattercarpet\":[{\"type\":\"scattercarpet\",\"marker\":{\"colorbar\":{\"outlinewidth\":0,\"ticks\":\"\"}}}],\"carpet\":[{\"aaxis\":{\"endlinecolor\":\"#2a3f5f\",\"gridcolor\":\"white\",\"linecolor\":\"white\",\"minorgridcolor\":\"white\",\"startlinecolor\":\"#2a3f5f\"},\"baxis\":{\"endlinecolor\":\"#2a3f5f\",\"gridcolor\":\"white\",\"linecolor\":\"white\",\"minorgridcolor\":\"white\",\"startlinecolor\":\"#2a3f5f\"},\"type\":\"carpet\"}],\"table\":[{\"cells\":{\"fill\":{\"color\":\"#EBF0F8\"},\"line\":{\"color\":\"white\"}},\"header\":{\"fill\":{\"color\":\"#C8D4E3\"},\"line\":{\"color\":\"white\"}},\"type\":\"table\"}],\"barpolar\":[{\"marker\":{\"line\":{\"color\":\"#E5ECF6\",\"width\":0.5},\"pattern\":{\"fillmode\":\"overlay\",\"size\":10,\"solidity\":0.2}},\"type\":\"barpolar\"}],\"pie\":[{\"automargin\":true,\"type\":\"pie\"}]},\"layout\":{\"autotypenumbers\":\"strict\",\"colorway\":[\"#636efa\",\"#EF553B\",\"#00cc96\",\"#ab63fa\",\"#FFA15A\",\"#19d3f3\",\"#FF6692\",\"#B6E880\",\"#FF97FF\",\"#FECB52\"],\"font\":{\"color\":\"#2a3f5f\"},\"hovermode\":\"closest\",\"hoverlabel\":{\"align\":\"left\"},\"paper_bgcolor\":\"white\",\"plot_bgcolor\":\"#E5ECF6\",\"polar\":{\"bgcolor\":\"#E5ECF6\",\"angularaxis\":{\"gridcolor\":\"white\",\"linecolor\":\"white\",\"ticks\":\"\"},\"radialaxis\":{\"gridcolor\":\"white\",\"linecolor\":\"white\",\"ticks\":\"\"}},\"ternary\":{\"bgcolor\":\"#E5ECF6\",\"aaxis\":{\"gridcolor\":\"white\",\"linecolor\":\"white\",\"ticks\":\"\"},\"baxis\":{\"gridcolor\":\"white\",\"linecolor\":\"white\",\"ticks\":\"\"},\"caxis\":{\"gridcolor\":\"white\",\"linecolor\":\"white\",\"ticks\":\"\"}},\"coloraxis\":{\"colorbar\":{\"outlinewidth\":0,\"ticks\":\"\"}},\"colorscale\":{\"sequential\":[[0.0,\"#0d0887\"],[0.1111111111111111,\"#46039f\"],[0.2222222222222222,\"#7201a8\"],[0.3333333333333333,\"#9c179e\"],[0.4444444444444444,\"#bd3786\"],[0.5555555555555556,\"#d8576b\"],[0.6666666666666666,\"#ed7953\"],[0.7777777777777778,\"#fb9f3a\"],[0.8888888888888888,\"#fdca26\"],[1.0,\"#f0f921\"]],\"sequentialminus\":[[0.0,\"#0d0887\"],[0.1111111111111111,\"#46039f\"],[0.2222222222222222,\"#7201a8\"],[0.3333333333333333,\"#9c179e\"],[0.4444444444444444,\"#bd3786\"],[0.5555555555555556,\"#d8576b\"],[0.6666666666666666,\"#ed7953\"],[0.7777777777777778,\"#fb9f3a\"],[0.8888888888888888,\"#fdca26\"],[1.0,\"#f0f921\"]],\"diverging\":[[0,\"#8e0152\"],[0.1,\"#c51b7d\"],[0.2,\"#de77ae\"],[0.3,\"#f1b6da\"],[0.4,\"#fde0ef\"],[0.5,\"#f7f7f7\"],[0.6,\"#e6f5d0\"],[0.7,\"#b8e186\"],[0.8,\"#7fbc41\"],[0.9,\"#4d9221\"],[1,\"#276419\"]]},\"xaxis\":{\"gridcolor\":\"white\",\"linecolor\":\"white\",\"ticks\":\"\",\"title\":{\"standoff\":15},\"zerolinecolor\":\"white\",\"automargin\":true,\"zerolinewidth\":2},\"yaxis\":{\"gridcolor\":\"white\",\"linecolor\":\"white\",\"ticks\":\"\",\"title\":{\"standoff\":15},\"zerolinecolor\":\"white\",\"automargin\":true,\"zerolinewidth\":2},\"scene\":{\"xaxis\":{\"backgroundcolor\":\"#E5ECF6\",\"gridcolor\":\"white\",\"linecolor\":\"white\",\"showbackground\":true,\"ticks\":\"\",\"zerolinecolor\":\"white\",\"gridwidth\":2},\"yaxis\":{\"backgroundcolor\":\"#E5ECF6\",\"gridcolor\":\"white\",\"linecolor\":\"white\",\"showbackground\":true,\"ticks\":\"\",\"zerolinecolor\":\"white\",\"gridwidth\":2},\"zaxis\":{\"backgroundcolor\":\"#E5ECF6\",\"gridcolor\":\"white\",\"linecolor\":\"white\",\"showbackground\":true,\"ticks\":\"\",\"zerolinecolor\":\"white\",\"gridwidth\":2}},\"shapedefaults\":{\"line\":{\"color\":\"#2a3f5f\"}},\"annotationdefaults\":{\"arrowcolor\":\"#2a3f5f\",\"arrowhead\":0,\"arrowwidth\":1},\"geo\":{\"bgcolor\":\"white\",\"landcolor\":\"#E5ECF6\",\"subunitcolor\":\"white\",\"showland\":true,\"showlakes\":true,\"lakecolor\":\"white\"},\"title\":{\"x\":0.05},\"mapbox\":{\"style\":\"light\"}}},\"xaxis\":{\"anchor\":\"y\",\"domain\":[0.0,1.0],\"title\":{\"text\":\"Word\"},\"tickangle\":-45},\"yaxis\":{\"anchor\":\"x\",\"domain\":[0.0,1.0],\"title\":{\"text\":\"Frequency\"}},\"legend\":{\"tracegroupgap\":0},\"title\":{\"text\":\"Top terms — guterres_unga.txt\"},\"barmode\":\"relative\"},                        {\"responsive\": true}                    ).then(function(){\n",
              "                            \n",
              "var gd = document.getElementById('f9cc7eeb-45e5-444a-b3a2-51c31655ffaf');\n",
              "var x = new MutationObserver(function (mutations, observer) {{\n",
              "        var display = window.getComputedStyle(gd).display;\n",
              "        if (!display || display === 'none') {{\n",
              "            console.log([gd, 'removed!']);\n",
              "            Plotly.purge(gd);\n",
              "            observer.disconnect();\n",
              "        }}\n",
              "}});\n",
              "\n",
              "// Listen for the removal of the full notebook cells\n",
              "var notebookContainer = gd.closest('#notebook-container');\n",
              "if (notebookContainer) {{\n",
              "    x.observe(notebookContainer, {childList: true});\n",
              "}}\n",
              "\n",
              "// Listen for the clearing of the current output cell\n",
              "var outputEl = gd.closest('.output');\n",
              "if (outputEl) {{\n",
              "    x.observe(outputEl, {childList: true});\n",
              "}}\n",
              "\n",
              "                        })                };                            </script>        </div>\n",
              "</body>\n",
              "</html>"
            ]
          },
          "metadata": {}
        }
      ]
    },
    {
      "cell_type": "markdown",
      "source": [
        "#### Based on the results from the analysis:\n",
        "\n",
        "*   **Top Terms:**\n",
        "    *   **Prabowo's speech:** The most frequent terms include \"world,\" \"indonesia,\" \"must,\" \"un,\" and \"civilisation.\" This suggests a focus on Indonesia's place in the global context and the role of the UN, with a strong emphasis on necessity or obligation (\"must\").\n",
        "    *   **Guterres's speech:** The top terms are \"must,\" \"world,\" \"right,\" \"choose,\" and \"human.\" This highlights a focus on global issues, human rights, and the importance of making choices, again with a strong emphasis on necessity (\"must\"). The higher frequency of \"must\" in Guterres's speech compared to Prabowo's might indicate a stronger call to action or a more urgent tone regarding global challenges.\n",
        "\n",
        "*   **Lexical Diversity:**\n",
        "    *   Prabowo's speech has a slightly higher lexical diversity (0.6071) compared to Guterres's speech (0.5276). This could suggest that Prabowo used a slightly wider range of unique words relative to the total number of words in his speech, or it could be influenced by the length of the speeches."
      ],
      "metadata": {
        "id": "e13jz66l1ctU"
      }
    },
    {
      "cell_type": "markdown",
      "source": [
        "# Compare keyword positions (dispersion) across both speeches\n",
        "\n",
        "This section observes how certain issues are strategized within a speech by using a dispersion plot. Intuitively, leaders tend to put engaging words (could be in the form of critical issues) in the beginning of a speech to engage their audiences. The issues are then built up towards the complication and then concluded by a call to action or resolution.\n",
        "\n",
        "The terms are chosen based on SDG progress that is aimed to be achieved by 2030. World Economic Forum (2025) identified SDGs 1 (no poverty), 5 (gender equality), and 10 (reduced inequalities) are some of the stagnating SDGs to be achieved by 2030. In contrast, SDG 7 (affordable and clean energy), 9 (industry, innovation, and infrastructure), 4 (quality education), and 3 (good health and well-being) are on track in mostly high-income regions.\n",
        "\n",
        "Identifying these lingering issues enables us to somewhat measure leaders' perception towards currently urgent global issue and analyze their solution to these."
      ],
      "metadata": {
        "id": "n9saH02uHcn9"
      }
    },
    {
      "cell_type": "code",
      "source": [
        "terms = [\"poverty\", \"equality\", \"women\", \"hunger\", \"health\", \"digital inclusion\", \"financing\", \"energy\", \"infrastructure\", \"education\", \"conflict\", \"peace\"]\n",
        "from nltk.text import Text\n",
        "T1 = Text(nltk.word_tokenize(raw1))\n",
        "T2 = Text(nltk.word_tokenize(raw2))\n",
        "print(s1)\n",
        "T1.dispersion_plot(terms)\n",
        "print(s2)\n",
        "T2.dispersion_plot(terms)"
      ],
      "metadata": {
        "colab": {
          "base_uri": "https://localhost:8080/",
          "height": 963
        },
        "id": "5aLMgRkBFmcC",
        "outputId": "9ca745fd-f42d-45f4-d50d-07e1e6cf8954"
      },
      "execution_count": 58,
      "outputs": [
        {
          "output_type": "stream",
          "name": "stdout",
          "text": [
            "prabowo_unga.txt\n",
            "guterres_unga.txt\n"
          ]
        },
        {
          "output_type": "display_data",
          "data": {
            "text/plain": [
              "<Figure size 640x480 with 1 Axes>"
            ],
            "image/png": "[encoded data removed]"
          },
          "metadata": {}
        },
        {
          "output_type": "display_data",
          "data": {
            "text/plain": [
              "<Figure size 640x480 with 1 Axes>"
            ],
            "image/png": "[encoded data removed]"
          },
          "metadata": {}
        }
      ]
    },
    {
      "cell_type": "markdown",
      "source": [
        "#### Based on the analysis:\n",
        "\n",
        "President Prabowo and Secretary General Guteres has different approaches in strategizing their speech. President Prabowo has the tendency to open his speech with pressing issues indicated by keywords like \"poverty\" and \"hunger\", while Secretary General Guteres opened his speech by leveraging the keyword \"conflict\" and immediately call for \"peace\".\n",
        "\n",
        "In terms of policy, Prabowo also seems to draw emphasis on issues such as hunger and energy accessibility based on the dispersion plot. Unlike Secretary General Guterres, President Prabowo did not mention policy issues demonstrated by the lack of keyword mention of \"women\", \"health\", \"financing\", \"infrastructure\", and \"education\".\n",
        "\n",
        "Another interesting takeaway, Secretary General Guterres mentioned keywords from both of the most stagnated and progressing SDG-s, except for digital inclusion."
      ],
      "metadata": {
        "id": "Ii_t_LAT1tgb"
      }
    },
    {
      "cell_type": "markdown",
      "source": [
        "#### Collocations (Common policy phrase)"
      ],
      "metadata": {
        "id": "rMytAUBnsK9Q"
      }
    },
    {
      "cell_type": "markdown",
      "source": [
        "This section allows us to dissect some of the common collocations used in both policies brought upon by President Prabowo and Secretary General Guterres during their speech."
      ],
      "metadata": {
        "id": "VqDLowSDBZxo"
      }
    },
    {
      "cell_type": "code",
      "source": [
        "from nltk.collocations import BigramAssocMeasures, BigramCollocationFinder\n",
        "\n",
        "def top_bigrams(tokens, min_freq=3, k=15):\n",
        "    finder = BigramCollocationFinder.from_words(tokens)\n",
        "    finder.apply_freq_filter(min_freq)  # ignore very rare pairs\n",
        "    return finder.nbest(BigramAssocMeasures().pmi, k)\n",
        "\n",
        "top_bigrams(c1, min_freq=2, k=15)"
      ],
      "metadata": {
        "colab": {
          "base_uri": "https://localhost:8080/"
        },
        "id": "awkHrVBssRly",
        "outputId": "8e7fe089-73b1-46f4-a495-9477e6eac38b"
      },
      "execution_count": 59,
      "outputs": [
        {
          "output_type": "execute_result",
          "data": {
            "text/plain": [
              "[('alaikum', 'warahmatullahi'),\n",
              " ('energy', 'water'),\n",
              " ('net', 'zero'),\n",
              " ('reject', 'doctrine'),\n",
              " ('shalom', 'salve'),\n",
              " ('wabarakatuh', 'shalom'),\n",
              " ('warahmatullahi', 'wabarakatuh'),\n",
              " ('achieve', 'net'),\n",
              " ('climate', 'change'),\n",
              " ('salve', 'om'),\n",
              " ('weak', 'suffer'),\n",
              " ('palestine', 'israel'),\n",
              " ('use', 'science'),\n",
              " ('shanti', 'shanti'),\n",
              " ('council', 'assembly')]"
            ]
          },
          "metadata": {},
          "execution_count": 59
        }
      ]
    },
    {
      "cell_type": "markdown",
      "source": [
        "#### Based on the analysis:\n",
        "\n",
        "Meanwhile, top bigrams (common two-word phrases) in both of the leaders' speeches like \"energy water,\" \"net zero,\" \"climate change,\" and \"palestine israel\" indicate specifically critical policy areas or international issues. Phrases like \"reject doctrine\" or \"weak suffer\" might reflect rhetorical framing or specific points being made - encompassing the urgency of addressing these issues in a global scale."
      ],
      "metadata": {
        "id": "YY0UTQiq5KEe"
      }
    },
    {
      "cell_type": "markdown",
      "source": [
        "#### VADER sentiment for short political text\n",
        "\n",
        "Lastly, the objective of the sentiment analysis is to project a leaders' sentiment towards an issue. This information enables analysts to hypothesize the underlying communication objective of the speech and understand reasoning to leverage certain issues in certain sentiments."
      ],
      "metadata": {
        "id": "fQtQuBPuv3Ck"
      }
    },
    {
      "cell_type": "code",
      "metadata": {
        "colab": {
          "base_uri": "https://localhost:8080/"
        },
        "id": "ad6d5791",
        "outputId": "f66d8d86-d97c-4432-fab3-dd336132686d"
      },
      "source": [
        "from nltk.sentiment import SentimentIntensityAnalyzer\n",
        "\n",
        "# Initialize the VADER sentiment intensity analyzer\n",
        "sia = SentimentIntensityAnalyzer()\n",
        "\n",
        "# Get the raw text of the speeches\n",
        "raw_prabowo = my_corpus.raw('prabowo_unga.txt')\n",
        "raw_guterres = my_corpus.raw('guterres_unga.txt')\n",
        "\n",
        "# Get sentiment scores for Prabowo's speech\n",
        "sentiment_prabowo = sia.polarity_scores(raw_prabowo)\n",
        "print(\"Sentiment scores for Prabowo's speech:\")\n",
        "print(sentiment_prabowo)\n",
        "\n",
        "# Get sentiment scores for Guterres's speech\n",
        "sentiment_guterres = sia.polarity_scores(raw_guterres)\n",
        "print(\"\\nSentiment scores for Guterres's speech:\")\n",
        "print(sentiment_guterres)"
      ],
      "execution_count": 60,
      "outputs": [
        {
          "output_type": "stream",
          "name": "stdout",
          "text": [
            "Sentiment scores for Prabowo's speech:\n",
            "{'neg': 0.13, 'neu': 0.681, 'pos': 0.188, 'compound': 0.9982}\n",
            "\n",
            "Sentiment scores for Guterres's speech:\n",
            "{'neg': 0.146, 'neu': 0.68, 'pos': 0.174, 'compound': 0.9979}\n"
          ]
        }
      ]
    },
    {
      "cell_type": "markdown",
      "source": [
        "#### Based on the analysis:\n",
        "\n",
        "Both speeches have high compound sentiment scores (Prabowo: 0.9982, Guterres: 0.9979), indicating an overall positive sentiment.\n",
        "Comparing the pos, neg, and neu scores can provide more nuance, Prabowo's speech has a slightly higher positive score (0.188) and a slightly lower negative score (0.13) than Guterres's speech (pos: 0.174, neg: 0.146). The neutral scores are very similar. This suggests that while both speeches are generally positive, Prabowo's might be slightly more positively framed, or Guterres's might acknowledge challenges (negative aspects) slightly more."
      ],
      "metadata": {
        "id": "51ddSs4L5aXs"
      }
    },
    {
      "cell_type": "markdown",
      "source": [
        "# Discussion and Conclusion\n",
        "\n",
        "The comparative text analysis of President Prabowo Subianto’s and Secretary-General António Guterres’s 2025 UNGA speeches provides insight into how both leaders framed their global narratives, revealing overlapping priorities but distinct rhetorical strategies.\n",
        "\n",
        "The top-term frequency highlights strong thematic convergence around globalism, obligation, and collective responsibility. Both leaders repeatedly used “world” and “must,” underscoring a shared sense of urgency toward international cooperation. Yet the nuanced differences are telling: Prabowo’s frequent use of “Indonesia” and “civilisation” suggests a focus on national identity and moral contribution within a global order—projecting Indonesia as both participant and exemplar of global responsibility. Guterres’s emphasis on “right,” “choose,” and “human,” by contrast, aligns with his institutional role as the moral voice of multilateralism, prioritizing human rights and ethical decision-making. Furthermore, Prabowo’s speech has slightly higher lexical diversity, indicating his effort to weave diverse topics—ranging from energy transition to geopolitical conflicts—into a single narrative of Indonesia’s global relevance. Guterres’s - even though as the overarching leader of the UN and needs to address multidimensional issues for over 10 minutes - relatively lower diversity likely reflects his structured, issue-driven address that reiterates long-standing UN themes.\n",
        "\n",
        "The keyword dispersion patterns complement this observation: while both addressed peace, equality, and conflict, the temporal distribution of these words within the speeches shows differences in narrative design. Guterres tends to integrate these values consistently throughout, reflecting institutional continuity, whereas Prabowo’s mentions cluster around specific sections, possibly to dramatize Indonesia’s positioning on key issues such as Palestine or climate justice.\n",
        "\n",
        "Prabowo’s collocations—including “net zero,” “energy water,” and “Palestine Israel”—signal his rhetorical attempt to embed Indonesia in discussions of sustainability and global equity. Phrases such as “reject doctrine” or “weak suffer” evoke moral assertiveness and post-colonial critique, framing Indonesia as a defender of fairness in global governance.\n",
        "\n",
        "Finally, the sentiment analysis reinforces that both leaders maintain optimistic tones, though Prabowo’s slightly higher positivity score suggests a more aspirational and promotional stance, fitting for a newly inaugurated leader seeking legitimacy and alignment with global ideals.\n",
        "\n",
        "Overall, the findings show that Prabowo’s discourse aligns substantially with Guterres’s multilateral agenda—particularly on peace, climate, and justice—while simultaneously crafting a distinct narrative of national pride and moral agency. His rhetoric bridges global cooperation and Indonesian exceptionalism, positioning him as both a partner of and a contributor to the UN’s collective vision."
      ],
      "metadata": {
        "id": "aILnS3ETykw3"
      }
    },
    {
      "cell_type": "markdown",
      "source": [
        "# References\n",
        "\n",
        "Presidential Secretariat of the Republic of Indonesia. (2025, September 24). President Prabowo’s first address at 80th UNGA earns international praise. https://setkab.go.id/en/president-prabowos-first-address-at-80th-unga-earns-international-praise/\n",
        "\n",
        "World Economic Forum. (2025, September ??). Five years to go: Are we on track to meet the Sustainable Development Goals? https://www.weforum.org/stories/2025/09/sdg-progress-report-2025/"
      ],
      "metadata": {
        "id": "kSO15MozCcA4"
      }
    }
  ]
}